{
 "cells": [
  {
   "cell_type": "markdown",
   "id": "40222fdf",
   "metadata": {},
   "source": [
    "<h1>Data Science Tools and Ecosystem</h1>"
   ]
  },
  {
   "cell_type": "markdown",
   "id": "bbddd2a5",
   "metadata": {},
   "source": [
    "In this notebook, Data Science Tools and Ecosystem are summarized."
   ]
  },
  {
   "cell_type": "markdown",
   "id": "6aa1cb20",
   "metadata": {},
   "source": [
    "<b>Objectives:</b>\n",
    "- List popular languages for Data Science\n",
    "- List popular libraries for Data Science\n",
    "- Data Science Tools"
   ]
  },
  {
   "cell_type": "markdown",
   "id": "3dc58a26",
   "metadata": {},
   "source": [
    "Some of the popular languages that Data Scientists use are:\n",
    "1. Python\n",
    "2. R\n",
    "3. Julia\n",
    "3. Scala\n",
    "4. Java\n",
    "5. Javascript"
   ]
  },
  {
   "cell_type": "markdown",
   "id": "ee93e821",
   "metadata": {},
   "source": [
    "Some of the commonly used libraries used by Data Scientists include:\n",
    "1. Pandas\n",
    "2. Numpy\n",
    "3. Matplotlib\n",
    "4. Seaborn\n",
    "5. scikit-Learn\n",
    "6. Keras\n",
    "7. Tensorflow\n",
    "8. pytorch\n",
    "9. ggplot2\n",
    "10. dplyr\n",
    "11. stringr\n",
    "12. caret\n"
   ]
  },
  {
   "cell_type": "markdown",
   "id": "0cad2a5d",
   "metadata": {},
   "source": [
    "| Data Science Tools |\n",
    "|:------------------|\n",
    "|Jupyter Notebook|\n",
    "|Google Colab|\n",
    "|Github|\n",
    "|R Studio|\n"
   ]
  },
  {
   "cell_type": "markdown",
   "id": "6625b635",
   "metadata": {},
   "source": [
    "<h3>Below are a few examples of evaluating arithmetic expressions in Python</h3>"
   ]
  },
  {
   "cell_type": "code",
   "execution_count": 1,
   "id": "156066d2",
   "metadata": {},
   "outputs": [
    {
     "data": {
      "text/plain": [
       "17"
      ]
     },
     "execution_count": 1,
     "metadata": {},
     "output_type": "execute_result"
    }
   ],
   "source": [
    "##This a simple arithmetic expression to mutiply then add integers\n",
    "(3*4)+5"
   ]
  },
  {
   "cell_type": "code",
   "execution_count": 4,
   "id": "18fe58f2",
   "metadata": {},
   "outputs": [
    {
     "data": {
      "text/plain": [
       "3.3333333333333335"
      ]
     },
     "execution_count": 4,
     "metadata": {},
     "output_type": "execute_result"
    }
   ],
   "source": [
    "##This will convert 200 minutes to hours by diving by 60\n",
    "200/60"
   ]
  },
  {
   "cell_type": "markdown",
   "id": "0ab8e100",
   "metadata": {},
   "source": [
    "<h2>Authour</h2>\n",
    "VINOTH KUMAR SAMPATH"
   ]
  },
  {
   "cell_type": "code",
   "execution_count": null,
   "id": "08165808",
   "metadata": {},
   "outputs": [],
   "source": []
  }
 ],
 "metadata": {
  "kernelspec": {
   "display_name": "Python 3 (ipykernel)",
   "language": "python",
   "name": "python3"
  },
  "language_info": {
   "codemirror_mode": {
    "name": "ipython",
    "version": 3
   },
   "file_extension": ".py",
   "mimetype": "text/x-python",
   "name": "python",
   "nbconvert_exporter": "python",
   "pygments_lexer": "ipython3",
   "version": "3.10.13"
  }
 },
 "nbformat": 4,
 "nbformat_minor": 5
}
